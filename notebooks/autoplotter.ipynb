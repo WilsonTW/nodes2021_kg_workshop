{
 "cells": [
  {
   "cell_type": "code",
   "execution_count": 1,
   "id": "c58432be",
   "metadata": {
    "collapsed": true,
    "jupyter": {
     "outputs_hidden": true
    }
   },
   "outputs": [
    {
     "name": "stdout",
     "output_type": "stream",
     "text": [
      "Collecting autoplotter\n",
      "  Downloading autoplotter-0.1.0.tar.gz (21 kB)\n",
      "Collecting dash\n",
      "  Downloading dash-1.20.0.tar.gz (77 kB)\n",
      "\u001b[K     |████████████████████████████████| 77 kB 327 kB/s eta 0:00:01\n",
      "\u001b[?25hCollecting dash_bootstrap_components\n",
      "  Downloading dash_bootstrap_components-0.12.2-py3-none-any.whl (191 kB)\n",
      "\u001b[K     |████████████████████████████████| 191 kB 332 kB/s eta 0:00:01\n",
      "\u001b[?25hRequirement already satisfied: pandas in /opt/conda/lib/python3.9/site-packages (from autoplotter) (1.2.4)\n",
      "Collecting dash_table\n",
      "  Downloading dash_table-4.11.3.tar.gz (1.8 MB)\n",
      "\u001b[K     |████████████████████████████████| 1.8 MB 218 kB/s eta 0:00:01     |██████████████▌                 | 819 kB 71 kB/s eta 0:00:14\n",
      "\u001b[?25hRequirement already satisfied: numpy in /opt/conda/lib/python3.9/site-packages (from autoplotter) (1.20.3)\n",
      "Collecting jupyter-dash\n",
      "  Downloading jupyter_dash-0.4.0-py3-none-any.whl (20 kB)\n",
      "Collecting Flask>=1.0.4\n",
      "  Downloading Flask-2.0.1-py3-none-any.whl (94 kB)\n",
      "\u001b[K     |████████████████████████████████| 94 kB 628 kB/s eta 0:00:01\n",
      "\u001b[?25hCollecting flask-compress\n",
      "  Downloading Flask_Compress-1.10.1-py3-none-any.whl (7.9 kB)\n",
      "Collecting plotly\n",
      "  Downloading plotly-4.14.3-py2.py3-none-any.whl (13.2 MB)\n",
      "\u001b[K     |████████████████████████████████| 13.2 MB 836 kB/s eta 0:00:01    |█████▏                          | 2.1 MB 854 kB/s eta 0:00:13     |██████▉                         | 2.8 MB 240 kB/s eta 0:00:44     |█████████▊                      | 4.0 MB 311 kB/s eta 0:00:30     |█████████████▏                  | 5.4 MB 312 kB/s eta 0:00:25     |██████████████████              | 7.4 MB 147 kB/s eta 0:00:40     |███████████████████████████▌    | 11.3 MB 866 kB/s eta 0:00:03     |█████████████████████████████▉  | 12.3 MB 912 kB/s eta 0:00:01     |██████████████████████████████  | 12.3 MB 912 kB/s eta 0:00:01\n",
      "\u001b[?25hCollecting dash_renderer==1.9.1\n",
      "  Downloading dash_renderer-1.9.1.tar.gz (1.0 MB)\n",
      "\u001b[K     |████████████████████████████████| 1.0 MB 1.1 MB/s eta 0:00:01\n",
      "\u001b[?25hCollecting dash-core-components==1.16.0\n",
      "  Downloading dash_core_components-1.16.0.tar.gz (3.5 MB)\n",
      "\u001b[K     |████████████████████████████████| 3.5 MB 940 kB/s eta 0:00:01     |██████████████▉                 | 1.6 MB 711 kB/s eta 0:00:03     |███████████████████████████▋    | 3.0 MB 381 kB/s eta 0:00:02\n",
      "\u001b[?25hCollecting dash-html-components==1.1.3\n",
      "  Downloading dash_html_components-1.1.3.tar.gz (82 kB)\n",
      "\u001b[K     |████████████████████████████████| 82 kB 430 kB/s eta 0:00:011\n",
      "\u001b[?25hCollecting future\n",
      "  Downloading future-0.18.2.tar.gz (829 kB)\n",
      "\u001b[K     |████████████████████████████████| 829 kB 349 kB/s eta 0:00:01\n",
      "\u001b[?25hRequirement already satisfied: Jinja2>=3.0 in /opt/conda/lib/python3.9/site-packages (from Flask>=1.0.4->dash->autoplotter) (3.0.1)\n",
      "Collecting Werkzeug>=2.0\n",
      "  Downloading Werkzeug-2.0.1-py3-none-any.whl (288 kB)\n",
      "\u001b[K     |████████████████████████████████| 288 kB 406 kB/s eta 0:00:01\n",
      "\u001b[?25hRequirement already satisfied: click>=7.1.2 in /opt/conda/lib/python3.9/site-packages (from Flask>=1.0.4->dash->autoplotter) (7.1.2)\n",
      "Collecting itsdangerous>=2.0\n",
      "  Downloading itsdangerous-2.0.1-py3-none-any.whl (18 kB)\n",
      "Requirement already satisfied: MarkupSafe>=2.0 in /opt/conda/lib/python3.9/site-packages (from Jinja2>=3.0->Flask>=1.0.4->dash->autoplotter) (2.0.1)\n",
      "Collecting brotli\n",
      "  Downloading Brotli-1.0.9-cp39-cp39-manylinux1_x86_64.whl (357 kB)\n",
      "\u001b[K     |████████████████████████████████| 357 kB 692 kB/s eta 0:00:01\n",
      "\u001b[?25hCollecting retrying\n",
      "  Downloading retrying-1.3.3.tar.gz (10 kB)\n",
      "Collecting ansi2html\n",
      "  Downloading ansi2html-1.6.0-py3-none-any.whl (14 kB)\n",
      "Requirement already satisfied: ipython in /opt/conda/lib/python3.9/site-packages (from jupyter-dash->autoplotter) (7.24.1)\n",
      "Requirement already satisfied: requests in /opt/conda/lib/python3.9/site-packages (from jupyter-dash->autoplotter) (2.25.1)\n",
      "Requirement already satisfied: ipykernel in /opt/conda/lib/python3.9/site-packages (from jupyter-dash->autoplotter) (5.5.5)\n",
      "Requirement already satisfied: traitlets>=4.1.0 in /opt/conda/lib/python3.9/site-packages (from ipykernel->jupyter-dash->autoplotter) (5.0.5)\n",
      "Requirement already satisfied: jupyter-client in /opt/conda/lib/python3.9/site-packages (from ipykernel->jupyter-dash->autoplotter) (6.1.12)\n",
      "Requirement already satisfied: tornado>=4.2 in /opt/conda/lib/python3.9/site-packages (from ipykernel->jupyter-dash->autoplotter) (6.1)\n",
      "Requirement already satisfied: decorator in /opt/conda/lib/python3.9/site-packages (from ipython->jupyter-dash->autoplotter) (5.0.9)\n",
      "Requirement already satisfied: jedi>=0.16 in /opt/conda/lib/python3.9/site-packages (from ipython->jupyter-dash->autoplotter) (0.18.0)\n",
      "Requirement already satisfied: pygments in /opt/conda/lib/python3.9/site-packages (from ipython->jupyter-dash->autoplotter) (2.9.0)\n",
      "Requirement already satisfied: matplotlib-inline in /opt/conda/lib/python3.9/site-packages (from ipython->jupyter-dash->autoplotter) (0.1.2)\n",
      "Requirement already satisfied: pexpect>4.3 in /opt/conda/lib/python3.9/site-packages (from ipython->jupyter-dash->autoplotter) (4.8.0)\n",
      "Requirement already satisfied: pickleshare in /opt/conda/lib/python3.9/site-packages (from ipython->jupyter-dash->autoplotter) (0.7.5)\n",
      "Requirement already satisfied: backcall in /opt/conda/lib/python3.9/site-packages (from ipython->jupyter-dash->autoplotter) (0.2.0)\n",
      "Requirement already satisfied: prompt-toolkit!=3.0.0,!=3.0.1,<3.1.0,>=2.0.0 in /opt/conda/lib/python3.9/site-packages (from ipython->jupyter-dash->autoplotter) (2.0.10)\n",
      "Requirement already satisfied: setuptools>=18.5 in /opt/conda/lib/python3.9/site-packages (from ipython->jupyter-dash->autoplotter) (49.6.0.post20210108)\n",
      "Requirement already satisfied: parso<0.9.0,>=0.8.0 in /opt/conda/lib/python3.9/site-packages (from jedi>=0.16->ipython->jupyter-dash->autoplotter) (0.8.2)\n",
      "Requirement already satisfied: ptyprocess>=0.5 in /opt/conda/lib/python3.9/site-packages (from pexpect>4.3->ipython->jupyter-dash->autoplotter) (0.7.0)\n",
      "Requirement already satisfied: wcwidth in /opt/conda/lib/python3.9/site-packages (from prompt-toolkit!=3.0.0,!=3.0.1,<3.1.0,>=2.0.0->ipython->jupyter-dash->autoplotter) (0.2.5)\n",
      "Requirement already satisfied: six>=1.9.0 in /opt/conda/lib/python3.9/site-packages (from prompt-toolkit!=3.0.0,!=3.0.1,<3.1.0,>=2.0.0->ipython->jupyter-dash->autoplotter) (1.16.0)\n",
      "Requirement already satisfied: ipython-genutils in /opt/conda/lib/python3.9/site-packages (from traitlets>=4.1.0->ipykernel->jupyter-dash->autoplotter) (0.2.0)\n",
      "Requirement already satisfied: pyzmq>=13 in /opt/conda/lib/python3.9/site-packages (from jupyter-client->ipykernel->jupyter-dash->autoplotter) (22.1.0)\n",
      "Requirement already satisfied: jupyter-core>=4.6.0 in /opt/conda/lib/python3.9/site-packages (from jupyter-client->ipykernel->jupyter-dash->autoplotter) (4.7.1)\n",
      "Requirement already satisfied: python-dateutil>=2.1 in /opt/conda/lib/python3.9/site-packages (from jupyter-client->ipykernel->jupyter-dash->autoplotter) (2.8.1)\n",
      "Requirement already satisfied: pytz>=2017.3 in /opt/conda/lib/python3.9/site-packages (from pandas->autoplotter) (2021.1)\n",
      "Requirement already satisfied: idna<3,>=2.5 in /opt/conda/lib/python3.9/site-packages (from requests->jupyter-dash->autoplotter) (2.10)\n",
      "Requirement already satisfied: urllib3<1.27,>=1.21.1 in /opt/conda/lib/python3.9/site-packages (from requests->jupyter-dash->autoplotter) (1.26.5)\n",
      "Requirement already satisfied: certifi>=2017.4.17 in /opt/conda/lib/python3.9/site-packages (from requests->jupyter-dash->autoplotter) (2021.5.30)\n",
      "Requirement already satisfied: chardet<5,>=3.0.2 in /opt/conda/lib/python3.9/site-packages (from requests->jupyter-dash->autoplotter) (4.0.0)\n",
      "Building wheels for collected packages: autoplotter, dash, dash-core-components, dash-html-components, dash-renderer, dash-table, future, retrying\n",
      "  Building wheel for autoplotter (setup.py) ... \u001b[?25ldone\n",
      "\u001b[?25h  Created wheel for autoplotter: filename=autoplotter-0.1.0-py3-none-any.whl size=23002 sha256=a2e480d294379eded4f78f72933580a4a5142d4adc24fb2ffe574264126ead2c\n",
      "  Stored in directory: /home/jovyan/.cache/pip/wheels/bd/21/56/28bfdad436cc15fa7a5e100be6ae44bff3879d515adc32be4b\n",
      "  Building wheel for dash (setup.py) ... \u001b[?25ldone\n",
      "\u001b[?25h  Created wheel for dash: filename=dash-1.20.0-py3-none-any.whl size=85831 sha256=191180cfd5ab6ad02fcafd7961129cbd122931fdbdfcbe608a5657260927b6ef\n",
      "  Stored in directory: /home/jovyan/.cache/pip/wheels/4b/cb/a6/817d490fb0a1abb2d078b9e9ee835bf7f039d1fd8b9c61b25e\n",
      "  Building wheel for dash-core-components (setup.py) ... \u001b[?25ldone\n",
      "\u001b[?25h  Created wheel for dash-core-components: filename=dash_core_components-1.16.0-py3-none-any.whl size=3540991 sha256=d5bf7b7f65446390fdfc169a2a455958221ef233b36cb866063f7dd226959321\n",
      "  Stored in directory: /home/jovyan/.cache/pip/wheels/a1/21/97/554773c64b38bf753f189054921c9217174a96d500f15b7f93\n",
      "  Building wheel for dash-html-components (setup.py) ... \u001b[?25ldone\n",
      "\u001b[?25h  Created wheel for dash-html-components: filename=dash_html_components-1.1.3-py3-none-any.whl size=319471 sha256=9663e3aaa18cac9cc3a03041c7881491c9650ae4623b7f250358839ce2b311b8\n",
      "  Stored in directory: /home/jovyan/.cache/pip/wheels/f7/eb/55/521dda099c8b09eed0178328cbe10306cb3fee851efd70ae4f\n",
      "  Building wheel for dash-renderer (setup.py) ... \u001b[?25ldone\n",
      "\u001b[?25h  Created wheel for dash-renderer: filename=dash_renderer-1.9.1-py3-none-any.whl size=1014878 sha256=746767469ec85183f496f9841b29585b96298fcdde02223e53608efe22567582\n",
      "  Stored in directory: /home/jovyan/.cache/pip/wheels/52/2f/28/956ce9f7763c886d23f0082829bd726e5dacd6c708a5841c77\n",
      "  Building wheel for dash-table (setup.py) ... \u001b[?25ldone\n",
      "\u001b[?25h  Created wheel for dash-table: filename=dash_table-4.11.3-py3-none-any.whl size=1827618 sha256=c8714c2f4dad9cef3dc428eecd0bc330fd7a03a3e7e166e4c1a02f5db8d18032\n",
      "  Stored in directory: /home/jovyan/.cache/pip/wheels/fb/0c/3d/fd6e565aa34ba87d6d110898b3297d2b78ef70339f1c2a483e\n",
      "  Building wheel for future (setup.py) ... \u001b[?25ldone\n",
      "\u001b[?25h  Created wheel for future: filename=future-0.18.2-py3-none-any.whl size=491059 sha256=221468ac33b35457432151764dffaf68191bfcafd7359d4777dca26ed6a63677\n",
      "  Stored in directory: /home/jovyan/.cache/pip/wheels/2f/a0/d3/4030d9f80e6b3be787f19fc911b8e7aa462986a40ab1e4bb94\n",
      "  Building wheel for retrying (setup.py) ... \u001b[?25ldone\n",
      "\u001b[?25h  Created wheel for retrying: filename=retrying-1.3.3-py3-none-any.whl size=11429 sha256=bffa55adb389de7b544eb85d2e76c9c0ac147492f36011f8100e3794b30c886d\n",
      "  Stored in directory: /home/jovyan/.cache/pip/wheels/ce/18/7f/e9527e3e66db1456194ac7f61eb3211068c409edceecff2d31\n",
      "Successfully built autoplotter dash dash-core-components dash-html-components dash-renderer dash-table future retrying\n",
      "Installing collected packages: Werkzeug, itsdangerous, retrying, Flask, brotli, plotly, future, flask-compress, dash-table, dash-renderer, dash-html-components, dash-core-components, dash, ansi2html, jupyter-dash, dash-bootstrap-components, autoplotter\n",
      "Successfully installed Flask-2.0.1 Werkzeug-2.0.1 ansi2html-1.6.0 autoplotter-0.1.0 brotli-1.0.9 dash-1.20.0 dash-bootstrap-components-0.12.2 dash-core-components-1.16.0 dash-html-components-1.1.3 dash-renderer-1.9.1 dash-table-4.11.3 flask-compress-1.10.1 future-0.18.2 itsdangerous-2.0.1 jupyter-dash-0.4.0 plotly-4.14.3 retrying-1.3.3\n",
      "Note: you may need to restart the kernel to use updated packages.\n"
     ]
    }
   ],
   "source": [
    "pip install autoplotter"
   ]
  },
  {
   "cell_type": "code",
   "execution_count": 2,
   "id": "b3f96e4d",
   "metadata": {},
   "outputs": [],
   "source": [
    "from autoplotter import run_app # Importing the autoplotter for GUI Based EDA\n",
    "import pandas as pd # Importing Pandas to read csv\n",
    "\n",
    "df = pd.read_csv(\"https://raw.githubusercontent.com/ersaurabhverma/autoplotter/master/Data/data.csv\") # Reading data"
   ]
  },
  {
   "cell_type": "code",
   "execution_count": 4,
   "id": "bce2a66d",
   "metadata": {},
   "outputs": [
    {
     "name": "stdout",
     "output_type": "stream",
     "text": [
      "AutoPlotter is running on http://127.0.0.1:5000/\n"
     ]
    },
    {
     "name": "stderr",
     "output_type": "stream",
     "text": [
      "/opt/conda/lib/python3.9/site-packages/autoplotter/jupyter_dash/jupyter_app.py:118: UserWarning:\n",
      "\n",
      "The 'environ['werkzeug.server.shutdown']' function is deprecated and will be removed in Werkzeug 2.1.\n",
      "\n"
     ]
    }
   ],
   "source": [
    "run_app(df,mode = \"external\", host=\"127.0.0.1\", port=5000) # Calling the autoplotter.run_app in external mode"
   ]
  },
  {
   "cell_type": "code",
   "execution_count": 5,
   "id": "61f2973d",
   "metadata": {},
   "outputs": [
    {
     "name": "stderr",
     "output_type": "stream",
     "text": [
      "/opt/conda/lib/python3.9/site-packages/autoplotter/jupyter_dash/jupyter_app.py:118: UserWarning:\n",
      "\n",
      "The 'environ['werkzeug.server.shutdown']' function is deprecated and will be removed in Werkzeug 2.1.\n",
      "\n"
     ]
    },
    {
     "data": {
      "text/html": [
       "\n",
       "        <iframe\n",
       "            width=\"100%\"\n",
       "            height=\"650\"\n",
       "            src=\"http://127.0.0.1:5000/\"\n",
       "            frameborder=\"0\"\n",
       "            allowfullscreen\n",
       "        ></iframe>\n",
       "        "
      ],
      "text/plain": [
       "<IPython.lib.display.IFrame at 0x7f129123eb80>"
      ]
     },
     "metadata": {},
     "output_type": "display_data"
    }
   ],
   "source": [
    "run_app(df,mode = \"inline\", host=\"127.0.0.1\", port=5000) # Calling the autoplotter.run_app in inline mode"
   ]
  },
  {
   "cell_type": "code",
   "execution_count": null,
   "id": "65d1ce8a",
   "metadata": {},
   "outputs": [],
   "source": []
  }
 ],
 "metadata": {
  "kernelspec": {
   "display_name": "Python 3",
   "language": "python",
   "name": "python3"
  },
  "language_info": {
   "codemirror_mode": {
    "name": "ipython",
    "version": 3
   },
   "file_extension": ".py",
   "mimetype": "text/x-python",
   "name": "python",
   "nbconvert_exporter": "python",
   "pygments_lexer": "ipython3",
   "version": "3.9.4"
  }
 },
 "nbformat": 4,
 "nbformat_minor": 5
}
